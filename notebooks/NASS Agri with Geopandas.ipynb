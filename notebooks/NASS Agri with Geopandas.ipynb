{
 "cells": [
  {
   "cell_type": "markdown",
   "metadata": {},
   "source": [
    "### Table of Contents\n",
    "1. [Imports and Setup](#imports)\n",
    "2. [Trying Out Utility Functions](#functions)\n",
    "    * Add Functions here"
   ]
  },
  {
   "cell_type": "markdown",
   "metadata": {},
   "source": [
    "###  Imports and Setup <a class=\"anchor\" id=\"imports\"></a>"
   ]
  },
  {
   "cell_type": "code",
   "execution_count": 18,
   "metadata": {},
   "outputs": [
    {
     "name": "stdout",
     "output_type": "stream",
     "text": [
      "The autoreload extension is already loaded. To reload it, use:\n",
      "  %reload_ext autoreload\n"
     ]
    }
   ],
   "source": [
    "import pandas as pd\n",
    "import geopandas as gpd\n",
    "from shapely.geometry import Point, Polygon\n",
    "from mpl_toolkits.basemap import Basemap\n",
    "import matplotlib.pyplot as plt\n",
    "import pathlib\n",
    "import pprint\n",
    "from tqdm import tqdm\n",
    "from time import sleep\n",
    "\n",
    "# Geocoding\n",
    "from geopy.geocoders import Nominatim, GoogleV3\n",
    "from geopy import location\n",
    "\n",
    "# Magic Methods for Jupyter Notebooks\n",
    "%matplotlib inline\n",
    "%load_ext autoreload\n",
    "%autoreload 2"
   ]
  },
  {
   "cell_type": "code",
   "execution_count": 9,
   "metadata": {},
   "outputs": [],
   "source": [
    "tqdm.pandas()"
   ]
  },
  {
   "cell_type": "markdown",
   "metadata": {},
   "source": [
    "### TODO"
   ]
  },
  {
   "cell_type": "markdown",
   "metadata": {},
   "source": [
    "Steps:\n",
    "1. Load CSV with Addresses using Pandas\n",
    "2. Convert Addresses to Coordinates using Geopy\n",
    "3. Convert Coordinates to Points using Shapely\n",
    "4. Using the Point Series and the DataFrame, Create a GeoDataFrame using GeoPandas\n",
    "5. Create Plots from the GeoDataFrame or combinations thereof (Spatial Joins)"
   ]
  },
  {
   "cell_type": "markdown",
   "metadata": {},
   "source": [
    "Create util functions for:\n",
    "*  Address to Coordinates\n",
    "* Coordinates to Points\n",
    "    * Make sure columns are named similarly\n",
    "* GeoDataFrame from Point Series and df\n",
    "    * Make sure to have the appropriate CRS\n",
    "* A function combining the functions\n",
    "* A plotter function"
   ]
  },
  {
   "cell_type": "markdown",
   "metadata": {},
   "source": [
    "Other Questions:\n",
    "1. What kind of visualizations do I want to see on Dash?\n"
   ]
  },
  {
   "cell_type": "markdown",
   "metadata": {},
   "source": [
    "### Trying out Utility Functions"
   ]
  },
  {
   "cell_type": "markdown",
   "metadata": {},
   "source": [
    "Load CSV with Addresses using Pandas"
   ]
  },
  {
   "cell_type": "code",
   "execution_count": 23,
   "metadata": {},
   "outputs": [
    {
     "data": {
      "text/html": [
       "<div>\n",
       "<style scoped>\n",
       "    .dataframe tbody tr th:only-of-type {\n",
       "        vertical-align: middle;\n",
       "    }\n",
       "\n",
       "    .dataframe tbody tr th {\n",
       "        vertical-align: top;\n",
       "    }\n",
       "\n",
       "    .dataframe thead th {\n",
       "        text-align: right;\n",
       "    }\n",
       "</style>\n",
       "<table border=\"1\" class=\"dataframe\">\n",
       "  <thead>\n",
       "    <tr style=\"text-align: right;\">\n",
       "      <th></th>\n",
       "      <th>state_name</th>\n",
       "      <th>commodity_desc</th>\n",
       "      <th>total_prod</th>\n",
       "    </tr>\n",
       "  </thead>\n",
       "  <tbody>\n",
       "    <tr>\n",
       "      <th>0</th>\n",
       "      <td>ALABAMA</td>\n",
       "      <td>CORN</td>\n",
       "      <td>410217102</td>\n",
       "    </tr>\n",
       "    <tr>\n",
       "      <th>1</th>\n",
       "      <td>ARIZONA</td>\n",
       "      <td>CORN</td>\n",
       "      <td>39253542</td>\n",
       "    </tr>\n",
       "    <tr>\n",
       "      <th>2</th>\n",
       "      <td>ARKANSAS</td>\n",
       "      <td>CORN</td>\n",
       "      <td>1164904278</td>\n",
       "    </tr>\n",
       "    <tr>\n",
       "      <th>3</th>\n",
       "      <td>CALIFORNIA</td>\n",
       "      <td>CORN</td>\n",
       "      <td>154029219</td>\n",
       "    </tr>\n",
       "    <tr>\n",
       "      <th>4</th>\n",
       "      <td>COLORADO</td>\n",
       "      <td>CORN</td>\n",
       "      <td>2116689162</td>\n",
       "    </tr>\n",
       "  </tbody>\n",
       "</table>\n",
       "</div>"
      ],
      "text/plain": [
       "   state_name commodity_desc  total_prod\n",
       "0     ALABAMA           CORN   410217102\n",
       "1     ARIZONA           CORN    39253542\n",
       "2    ARKANSAS           CORN  1164904278\n",
       "3  CALIFORNIA           CORN   154029219\n",
       "4    COLORADO           CORN  2116689162"
      ]
     },
     "execution_count": 23,
     "metadata": {},
     "output_type": "execute_result"
    }
   ],
   "source": [
    "CORN = \"/home/therealmolf/nass_agri_dash/data/agri/corn.csv\"\n",
    "\n",
    "top_corn_producers = pd.read_csv(CORN)\n",
    "top_corn_producers.head()"
   ]
  },
  {
   "cell_type": "markdown",
   "metadata": {},
   "source": [
    "Convert Addresses to Coordinates using Geopy"
   ]
  },
  {
   "cell_type": "code",
   "execution_count": 41,
   "metadata": {},
   "outputs": [],
   "source": [
    "geolocator = Nominatim(user_agent='http')\n",
    "\n",
    "\n",
    "def geocode_with_sleep(row) -> pd.Series:\n",
    "    \"\"\"\n",
    "       Limited geocoding to follow Nominatim Usage Limits \n",
    "    \"\"\"\n",
    "    \n",
    "    query = row['state_name']\n",
    "    sleep(1)\n",
    "    location = geolocator.geocode(query)\n",
    "\n",
    "    return pd.Series([location.longitude, location.latitude], \\\n",
    "                     index=['longitude', 'latitude'])\n",
    "\n",
    "\n",
    "def get_coordinates(df: pd.DataFrame) -> pd.DataFrame:\n",
    "    \"\"\"\n",
    "        Get Coordinates from State Names\n",
    "    \"\"\"\n",
    "\n",
    "    # No side effects to input df\n",
    "    df = df.copy()\n",
    "    df[['longitude', 'latitude']] = df.progress_apply\\\n",
    "        (geocode_with_sleep, axis=1, result_type='expand')\n",
    "\n",
    "    return df\n"
   ]
  },
  {
   "cell_type": "code",
   "execution_count": 42,
   "metadata": {},
   "outputs": [
    {
     "name": "stderr",
     "output_type": "stream",
     "text": [
      "  0%|          | 0/49 [00:00<?, ?it/s]"
     ]
    },
    {
     "name": "stderr",
     "output_type": "stream",
     "text": [
      "100%|██████████| 49/49 [01:06<00:00,  1.35s/it]\n"
     ]
    }
   ],
   "source": [
    "df_with_coord = get_coordinates(top_corn_producers)"
   ]
  },
  {
   "cell_type": "code",
   "execution_count": null,
   "metadata": {},
   "outputs": [],
   "source": [
    "df_with_coord"
   ]
  },
  {
   "cell_type": "code",
   "execution_count": 6,
   "metadata": {},
   "outputs": [],
   "source": [
    "# https://stackoverflow.com/questions/52600278/correct-way-to-use-geopy-nominatim"
   ]
  },
  {
   "cell_type": "markdown",
   "metadata": {},
   "source": [
    "Convert Coordinates to Points using Shapely"
   ]
  },
  {
   "cell_type": "code",
   "execution_count": 44,
   "metadata": {},
   "outputs": [],
   "source": [
    "points = df_with_coord.apply(lambda row: Point(row.longitude, row.latitude), axis=1)"
   ]
  },
  {
   "cell_type": "markdown",
   "metadata": {},
   "source": [
    "Using the Point Series and the DataFrame, Create a GeoDataFrame using GeoPandas"
   ]
  },
  {
   "cell_type": "code",
   "execution_count": 46,
   "metadata": {},
   "outputs": [],
   "source": [
    "corn_gpd = gpd.GeoDataFrame(df_with_coord, geometry=points)"
   ]
  },
  {
   "cell_type": "markdown",
   "metadata": {},
   "source": [
    "Plotting the GeoDataFrame"
   ]
  },
  {
   "cell_type": "code",
   "execution_count": 48,
   "metadata": {},
   "outputs": [
    {
     "data": {
      "text/plain": [
       "<Axes: >"
      ]
     },
     "execution_count": 48,
     "metadata": {},
     "output_type": "execute_result"
    },
    {
     "data": {
      "image/png": "[encoded data removed]",
      "text/plain": [
       "<Figure size 640x480 with 1 Axes>"
      ]
     },
     "metadata": {},
     "output_type": "display_data"
    }
   ],
   "source": [
    "corn_gpd.plot(column=\"total_prod\")"
   ]
  }
 ],
 "metadata": {
  "kernelspec": {
   "display_name": "nass_agri_dash",
   "language": "python",
   "name": "python3"
  },
  "language_info": {
   "codemirror_mode": {
    "name": "ipython",
    "version": 3
   },
   "file_extension": ".py",
   "mimetype": "text/x-python",
   "name": "python",
   "nbconvert_exporter": "python",
   "pygments_lexer": "ipython3",
   "version": "3.9.5"
  },
  "orig_nbformat": 4
 },
 "nbformat": 4,
 "nbformat_minor": 2
}
