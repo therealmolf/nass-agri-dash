{
 "cells": [
  {
   "cell_type": "markdown",
   "metadata": {},
   "source": [
    "### Table of Contents\n",
    "1. [Imports and Setup](#imports)\n",
    "2. [Trying Out Utility Functions](#functions)"
   ]
  },
  {
   "cell_type": "markdown",
   "metadata": {},
   "source": [
    "###  Imports and Setup <a class=\"anchor\" id=\"imports\"></a>"
   ]
  },
  {
   "cell_type": "code",
   "execution_count": 52,
   "metadata": {},
   "outputs": [
    {
     "name": "stdout",
     "output_type": "stream",
     "text": [
      "The autoreload extension is already loaded. To reload it, use:\n",
      "  %reload_ext autoreload\n"
     ]
    }
   ],
   "source": [
    "import pandas as pd\n",
    "import geopandas as gpd\n",
    "from shapely.geometry import Point, Polygon\n",
    "from mpl_toolkits.basemap import Basemap\n",
    "import matplotlib.pyplot as plt\n",
    "import pathlib\n",
    "import pprint\n",
    "from tqdm import tqdm\n",
    "from time import sleep\n",
    "\n",
    "# Geocoding\n",
    "from geopy.geocoders import Nominatim, GoogleV3\n",
    "from geopy import location\n",
    "\n",
    "# Magic Methods for Jupyter Notebooks\n",
    "%matplotlib inline\n",
    "%load_ext autoreload\n",
    "%autoreload 2"
   ]
  },
  {
   "cell_type": "code",
   "execution_count": 53,
   "metadata": {},
   "outputs": [],
   "source": [
    "tqdm.pandas()"
   ]
  },
  {
   "cell_type": "markdown",
   "metadata": {},
   "source": [
    "### Trying out Utility Functions"
   ]
  },
  {
   "cell_type": "markdown",
   "metadata": {},
   "source": [
    "Load CSV with Addresses using Pandas"
   ]
  },
  {
   "cell_type": "code",
   "execution_count": 54,
   "metadata": {},
   "outputs": [],
   "source": [
    "CORN = \"/home/therealmolf/nass_agri_dash/data/agri/corn.csv\""
   ]
  },
  {
   "cell_type": "markdown",
   "metadata": {},
   "source": [
    "Convert Addresses to Coordinates using Geopy"
   ]
  },
  {
   "cell_type": "code",
   "execution_count": 55,
   "metadata": {},
   "outputs": [],
   "source": [
    "geolocator = Nominatim(user_agent='http')\n",
    "\n",
    "\n",
    "def geocode_with_sleep(row) -> pd.Series:\n",
    "    \"\"\"\n",
    "    Get coordinates from a row's state_name.\n",
    "    Limited geocoding to follow Nominatim Usage Limits.\n",
    "\n",
    "    Args:\n",
    "        row: a DataFrame Row\n",
    "\n",
    "    Returns:\n",
    "        (pd.Series) The longitude and latitude from the state_name\n",
    "\n",
    "    \"\"\"\n",
    "    \n",
    "    query = row['state_name']\n",
    "    sleep(1)\n",
    "    location = geolocator.geocode(query)\n",
    "\n",
    "    return pd.Series([location.longitude, location.latitude], \\\n",
    "                     index=['longitude', 'latitude'])\n",
    "\n",
    "\n",
    "def get_coordinates(df: pd.DataFrame) -> pd.DataFrame:\n",
    "    \"\"\"\n",
    "        A function that applies a geocoder to the input DataFrame to get\n",
    "        the coordinates for each.\n",
    "\n",
    "        Args:\n",
    "            df (pd.DataFrame): A DataFrame with a state_name column\n",
    "\n",
    "        Returns:\n",
    "            (pd.DataFrame): Returns a new DataFrame with longitude and latitude columns\n",
    "    \"\"\"\n",
    "\n",
    "    # No side effects to input df\n",
    "    df = df.copy()\n",
    "    df[['longitude', 'latitude']] = df.progress_apply\\\n",
    "        (geocode_with_sleep, axis=1, result_type='expand')\n",
    "\n",
    "    return df\n"
   ]
  },
  {
   "cell_type": "markdown",
   "metadata": {},
   "source": [
    "Convert Coordinates to Points using Shapely"
   ]
  },
  {
   "cell_type": "code",
   "execution_count": 56,
   "metadata": {},
   "outputs": [],
   "source": [
    "def get_points(df: pd.DataFrame) -> pd.Series:\n",
    "    \"\"\"\n",
    "    Get a Shapely Point Series by from a DataFrame with longitude\n",
    "    and latitude columns.\n",
    "\n",
    "    Args:\n",
    "        df (pd.DataFrame): a DataFrame with longitude and latitude columns\n",
    "\n",
    "    Returns:\n",
    "        (pd.Series) A series of Shapely Points\n",
    "    \"\"\"\n",
    "\n",
    "    df = df.copy()\n",
    "    points = df.progress_apply(lambda row: Point(row.longitude, row.latitude), axis=1)\n",
    "\n",
    "    return points"
   ]
  },
  {
   "cell_type": "markdown",
   "metadata": {},
   "source": [
    "Using the Point Series and the DataFrame, Create a GeoDataFrame using GeoPandas"
   ]
  },
  {
   "cell_type": "code",
   "execution_count": 57,
   "metadata": {},
   "outputs": [],
   "source": [
    "def to_geodataframe(df: pd.DataFrame, points: pd.Series) -> gpd.GeoDataFrame:\n",
    "    \"\"\"\n",
    "    Create a GeoDataFrame using a DataFrame and a Point Series\n",
    "\n",
    "    Args:\n",
    "        df (pd.DataFrame): DataFrame where the points series was \n",
    "        derived from points (pd.Series): A Shapely Point series\n",
    "\n",
    "    Returns\n",
    "        (gpd.GeoDataFrame) A new GeoDataFrame with the Points \n",
    "        Series as its geometry column\n",
    "    \"\"\"\n",
    "\n",
    "    df = df.copy()\n",
    "\n",
    "    geo_df = gpd.GeoDataFrame(df, geometry=points)\n",
    "    # Change Coordinate Reference System to EPSG 4326\n",
    "    geo_df.crs = {'init': 'epsg:4326'}\n",
    "\n",
    "    return geo_df"
   ]
  },
  {
   "cell_type": "code",
   "execution_count": 58,
   "metadata": {},
   "outputs": [],
   "source": [
    "def csv_to_geodataframe(csv) -> gpd.GeoDataFrame:\n",
    "    \"\"\"\n",
    "        Convert a CSV with state_names into a GeoDataFrame\n",
    "\n",
    "        Args:\n",
    "            csv: \n",
    "\n",
    "        Returns:\n",
    "            (gpd.GeoDataFrame) A new GeoDataFrame based on the CSV passed.\n",
    "\n",
    "    \"\"\"\n",
    "    \n",
    "    df = pd.read_csv(csv)\n",
    "    coord_df = get_coordinates(df)\n",
    "    points = get_points(coord_df)\n",
    "    geo_df = to_geodataframe(coord_df, points)\n",
    "\n",
    "    return geo_df\n",
    "    "
   ]
  },
  {
   "cell_type": "code",
   "execution_count": 59,
   "metadata": {},
   "outputs": [
    {
     "name": "stderr",
     "output_type": "stream",
     "text": [
      "100%|██████████| 49/49 [01:13<00:00,  1.49s/it]\n",
      "/home/therealmolf/.virtualenvs/nass_agri_dash/lib/python3.9/site-packages/pyproj/crs/crs.py:141: FutureWarning: '+init=<authority>:<code>' syntax is deprecated. '<authority>:<code>' is the preferred initialization method. When making the change, be mindful of axis order changes: https://pyproj4.github.io/pyproj/stable/gotchas.html#axis-order-changes-in-proj-6\n",
      "  in_crs_string = _prepare_from_proj_string(in_crs_string)\n"
     ]
    }
   ],
   "source": [
    "geo_df = csv_to_geodataframe(CORN)"
   ]
  },
  {
   "cell_type": "markdown",
   "metadata": {},
   "source": [
    "### Plotting the GeoDataFrame"
   ]
  },
  {
   "cell_type": "code",
   "execution_count": 60,
   "metadata": {},
   "outputs": [
    {
     "data": {
      "text/plain": [
       "<Axes: >"
      ]
     },
     "execution_count": 60,
     "metadata": {},
     "output_type": "execute_result"
    },
    {
     "data": {
      "image/png": "[encoded data removed]",
      "text/plain": [
       "<Figure size 640x480 with 1 Axes>"
      ]
     },
     "metadata": {},
     "output_type": "display_data"
    }
   ],
   "source": [
    "geo_df.plot(column=\"total_prod\")"
   ]
  }
 ],
 "metadata": {
  "kernelspec": {
   "display_name": "nass_agri_dash",
   "language": "python",
   "name": "python3"
  },
  "language_info": {
   "codemirror_mode": {
    "name": "ipython",
    "version": 3
   },
   "file_extension": ".py",
   "mimetype": "text/x-python",
   "name": "python",
   "nbconvert_exporter": "python",
   "pygments_lexer": "ipython3",
   "version": "3.9.5"
  },
  "orig_nbformat": 4
 },
 "nbformat": 4,
 "nbformat_minor": 2
}
