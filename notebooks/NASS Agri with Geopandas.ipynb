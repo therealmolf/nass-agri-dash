{
 "cells": [
  {
   "cell_type": "markdown",
   "metadata": {},
   "source": [
    "### Imports"
   ]
  },
  {
   "cell_type": "code",
   "execution_count": null,
   "metadata": {},
   "outputs": [],
   "source": [
    "import pandas as pd\n",
    "import geopandas as gpd\n",
    "from shapely.geometry import Point, Polygon\n",
    "from mpl_toolkits.basemap import Basemap\n",
    "import matplotlib.pyplot as plt\n",
    "import pathlib\n",
    "import pprint\n",
    "\n",
    "# Geocoding\n",
    "from geopy.geocoders import Nominatim, GoogleV3\n",
    "\n",
    "# Magic Methods for Jupyter Notebooks\n",
    "%matplotlib inline\n",
    "%load_ext autoreload\n",
    "%autoreload 2"
   ]
  },
  {
   "cell_type": "markdown",
   "metadata": {},
   "source": [
    "### TODO"
   ]
  },
  {
   "cell_type": "markdown",
   "metadata": {},
   "source": [
    "Steps:\n",
    "1. Load CSV with Addresses using Pandas\n",
    "2. Convert Addresses to Coordinates using Geopy\n",
    "3. Convert Coordinates to Points using Shapely\n",
    "4. Using the Point Series and the DataFrame, Create a GeoDataFrame using GeoPandas\n",
    "5. Create Plots from the GeoDataFrame or combinations thereof (Spatial Joins)"
   ]
  },
  {
   "cell_type": "markdown",
   "metadata": {},
   "source": [
    "Create util functions for:\n",
    "*  Address to Coordinates\n",
    "* Coordinates to Points\n",
    "    * Make sure columns are named similarly\n",
    "* GeoDataFrame from Point Series and df\n",
    "    * Make sure to have the appropriate CRS\n",
    "* A function combining the functions\n",
    "* A plotter function"
   ]
  },
  {
   "cell_type": "markdown",
   "metadata": {},
   "source": [
    "Other Questions:\n",
    "1. What kind of visualizations do I want to see on Dash?\n"
   ]
  }
 ],
 "metadata": {
  "language_info": {
   "name": "python"
  },
  "orig_nbformat": 4
 },
 "nbformat": 4,
 "nbformat_minor": 2
}
